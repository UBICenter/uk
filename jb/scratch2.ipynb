{
 "cells": [
  {
   "cell_type": "code",
   "execution_count": 1,
   "id": "inappropriate-constitutional",
   "metadata": {},
   "outputs": [],
   "source": [
    "from openfisca_uk import Microsimulation\n",
    "sim = Microsimulation()\n",
    "import microdf as mdf\n",
    "import numpy as np\n",
    "import pandas as pd\n",
    "%config Completer.use_jedi = False"
   ]
  },
  {
   "cell_type": "code",
   "execution_count": 2,
   "id": "three-meaning",
   "metadata": {},
   "outputs": [],
   "source": [
    "h0 = sim.df([\"household_net_income\", \"household_weight\", \"people\"])\n",
    "h = mdf.MicroDataFrame(h0, weights=h0.household_weight)\n",
    "h[\"person_weight\"] = h.household_weight * h.people"
   ]
  },
  {
   "cell_type": "code",
   "execution_count": 7,
   "metadata": {},
   "outputs": [
    {
     "output_type": "execute_result",
     "data": {
      "text/plain": [
       "0.007403017601881103"
      ]
     },
     "metadata": {},
     "execution_count": 7
    }
   ],
   "source": [
    "(h.household_net_income == 0).mean()"
   ]
  },
  {
   "cell_type": "code",
   "execution_count": 3,
   "id": "surprised-irish",
   "metadata": {},
   "outputs": [
    {
     "output_type": "execute_result",
     "data": {
      "text/plain": [
       "0        22857171.0\n",
       "1         8737158.0\n",
       "2         1112851.0\n",
       "3         4667532.0\n",
       "4        23049557.0\n",
       "            ...    \n",
       "19164    10859737.0\n",
       "19165    26433644.0\n",
       "19166    15051635.0\n",
       "19167    15963530.0\n",
       "19168    13066815.0\n",
       "Length: 19169, dtype: float64"
      ]
     },
     "metadata": {},
     "execution_count": 3
    }
   ],
   "source": [
    "# h.household_net_income.sum() / 1e9\n",
    "h.household_net_income.rank()\n"
   ]
  },
  {
   "cell_type": "code",
   "execution_count": 4,
   "id": "peripheral-compact",
   "metadata": {},
   "outputs": [
    {
     "output_type": "execute_result",
     "data": {
      "text/plain": [
       "0        22857171.0\n",
       "1         8737158.0\n",
       "2         1112851.0\n",
       "3         4667532.0\n",
       "4        23049557.0\n",
       "            ...    \n",
       "19164    10859737.0\n",
       "19165    26433644.0\n",
       "19166    15051635.0\n",
       "19167    15963530.0\n",
       "19168    13066815.0\n",
       "Length: 19169, dtype: float64"
      ]
     },
     "metadata": {},
     "execution_count": 4
    }
   ],
   "source": [
    "h.weights = h.person_weight\n",
    "h.household_net_income.rank()\n",
    "\n",
    "# h.household_net_income.sum() / 1e9"
   ]
  },
  {
   "cell_type": "code",
   "execution_count": 5,
   "id": "cellular-ready",
   "metadata": {},
   "outputs": [
    {
     "output_type": "execute_result",
     "data": {
      "text/plain": [
       "0        22857171.0\n",
       "1         8737158.0\n",
       "2         1112851.0\n",
       "3         4667532.0\n",
       "4        23049557.0\n",
       "            ...    \n",
       "19164    10859737.0\n",
       "19165    26433644.0\n",
       "19166    15051635.0\n",
       "19167    15963530.0\n",
       "19168    13066815.0\n",
       "Length: 19169, dtype: float64"
      ]
     },
     "metadata": {},
     "execution_count": 5
    }
   ],
   "source": [
    "h.set_weights(\"person_weight\")\n",
    "h.household_net_income.rank()\n",
    "# h.set_weights(h.household_weight)\n",
    "# h.household_net_income.sum() / 1e9"
   ]
  },
  {
   "cell_type": "code",
   "execution_count": 6,
   "id": "cubic-address",
   "metadata": {},
   "outputs": [
    {
     "output_type": "execute_result",
     "data": {
      "text/plain": [
       "0        49599512.0\n",
       "1        13439380.0\n",
       "2         1624265.0\n",
       "3         6554508.0\n",
       "4        50155393.0\n",
       "            ...    \n",
       "19164    18038437.0\n",
       "19165    60724667.0\n",
       "19166    28167176.0\n",
       "19167    30430385.0\n",
       "19168    23212831.0\n",
       "Length: 19169, dtype: float64"
      ]
     },
     "metadata": {},
     "execution_count": 6
    }
   ],
   "source": [
    "h.set_weight_col(\"person_weight\")\n",
    "h.household_net_income.rank()\n",
    "\n",
    "# h.household_net_income.sum() / 1e9"
   ]
  },
  {
   "cell_type": "code",
   "execution_count": 7,
   "id": "atmospheric-prize",
   "metadata": {},
   "outputs": [
    {
     "output_type": "error",
     "ename": "AttributeError",
     "evalue": "'MicroDataFrame' object has no attribute 'equiv_household_net_income'",
     "traceback": [
      "\u001b[0;31m---------------------------------------------------------------------------\u001b[0m",
      "\u001b[0;31mAttributeError\u001b[0m                            Traceback (most recent call last)",
      "\u001b[0;32m<ipython-input-7-3564912604eb>\u001b[0m in \u001b[0;36m<module>\u001b[0;34m\u001b[0m\n\u001b[1;32m      1\u001b[0m \u001b[0mh\u001b[0m\u001b[0;34m.\u001b[0m\u001b[0mweights\u001b[0m \u001b[0;34m=\u001b[0m \u001b[0mh\u001b[0m\u001b[0;34m.\u001b[0m\u001b[0mhousehold_weight\u001b[0m \u001b[0;34m*\u001b[0m \u001b[0mh\u001b[0m\u001b[0;34m.\u001b[0m\u001b[0mpeople\u001b[0m\u001b[0;34m\u001b[0m\u001b[0;34m\u001b[0m\u001b[0m\n\u001b[0;32m----> 2\u001b[0;31m \u001b[0mh\u001b[0m\u001b[0;34m.\u001b[0m\u001b[0mequiv_household_net_income\u001b[0m\u001b[0;34m.\u001b[0m\u001b[0msum\u001b[0m\u001b[0;34m(\u001b[0m\u001b[0;34m)\u001b[0m \u001b[0;34m/\u001b[0m \u001b[0;36m1e9\u001b[0m\u001b[0;34m\u001b[0m\u001b[0;34m\u001b[0m\u001b[0m\n\u001b[0m",
      "\u001b[0;32m~/anaconda3/lib/python3.7/site-packages/pandas/core/generic.py\u001b[0m in \u001b[0;36m__getattr__\u001b[0;34m(self, name)\u001b[0m\n\u001b[1;32m   5137\u001b[0m             \u001b[0;32mif\u001b[0m \u001b[0mself\u001b[0m\u001b[0;34m.\u001b[0m\u001b[0m_info_axis\u001b[0m\u001b[0;34m.\u001b[0m\u001b[0m_can_hold_identifiers_and_holds_name\u001b[0m\u001b[0;34m(\u001b[0m\u001b[0mname\u001b[0m\u001b[0;34m)\u001b[0m\u001b[0;34m:\u001b[0m\u001b[0;34m\u001b[0m\u001b[0;34m\u001b[0m\u001b[0m\n\u001b[1;32m   5138\u001b[0m                 \u001b[0;32mreturn\u001b[0m \u001b[0mself\u001b[0m\u001b[0;34m[\u001b[0m\u001b[0mname\u001b[0m\u001b[0;34m]\u001b[0m\u001b[0;34m\u001b[0m\u001b[0;34m\u001b[0m\u001b[0m\n\u001b[0;32m-> 5139\u001b[0;31m             \u001b[0;32mreturn\u001b[0m \u001b[0mobject\u001b[0m\u001b[0;34m.\u001b[0m\u001b[0m__getattribute__\u001b[0m\u001b[0;34m(\u001b[0m\u001b[0mself\u001b[0m\u001b[0;34m,\u001b[0m \u001b[0mname\u001b[0m\u001b[0;34m)\u001b[0m\u001b[0;34m\u001b[0m\u001b[0;34m\u001b[0m\u001b[0m\n\u001b[0m\u001b[1;32m   5140\u001b[0m \u001b[0;34m\u001b[0m\u001b[0m\n\u001b[1;32m   5141\u001b[0m     \u001b[0;32mdef\u001b[0m \u001b[0m__setattr__\u001b[0m\u001b[0;34m(\u001b[0m\u001b[0mself\u001b[0m\u001b[0;34m,\u001b[0m \u001b[0mname\u001b[0m\u001b[0;34m:\u001b[0m \u001b[0mstr\u001b[0m\u001b[0;34m,\u001b[0m \u001b[0mvalue\u001b[0m\u001b[0;34m)\u001b[0m \u001b[0;34m->\u001b[0m \u001b[0;32mNone\u001b[0m\u001b[0;34m:\u001b[0m\u001b[0;34m\u001b[0m\u001b[0;34m\u001b[0m\u001b[0m\n",
      "\u001b[0;31mAttributeError\u001b[0m: 'MicroDataFrame' object has no attribute 'equiv_household_net_income'"
     ]
    }
   ],
   "source": [
    "h.weights = h.household_weight * h.people\n",
    "h.equiv_household_net_income.sum() / 1e9"
   ]
  },
  {
   "cell_type": "code",
   "execution_count": null,
   "id": "handed-stage",
   "metadata": {},
   "outputs": [],
   "source": [
    "h.equiv_household_net_income.rank()"
   ]
  },
  {
   "cell_type": "code",
   "execution_count": null,
   "id": "identical-apparatus",
   "metadata": {},
   "outputs": [],
   "source": [
    "159**2 * 52"
   ]
  },
  {
   "cell_type": "code",
   "execution_count": null,
   "id": "fiscal-thong",
   "metadata": {},
   "outputs": [],
   "source": [
    "d = sim.df(\n",
    "    [\n",
    "        \"in_poverty_bhc\",\n",
    "        \"equiv_household_net_income\",\n",
    "        \"household_net_income\",\n",
    "        \"poverty_line_bhc\",\n",
    "        \"household_weight\",\n",
    "        \"in_deep_poverty_bhc\",\n",
    "        \"age\"\n",
    "    ], map_to=\"person\"\n",
    ")\n",
    "md = mdf.MicroDataFrame(d, weights=\"household_weight\")"
   ]
  },
  {
   "cell_type": "code",
   "execution_count": null,
   "id": "lucky-vintage",
   "metadata": {},
   "outputs": [],
   "source": [
    "md[\"pov\"] = md.household_net_income < md.poverty_line_bhc"
   ]
  },
  {
   "cell_type": "code",
   "execution_count": 12,
   "id": "documented-berry",
   "metadata": {},
   "outputs": [
    {
     "output_type": "execute_result",
     "data": {
      "text/plain": [
       "microdf.generic.MicroSeries"
      ]
     },
     "metadata": {},
     "execution_count": 12
    }
   ],
   "source": [
    "md[md.age < 18].in_poverty_bhc.__class__"
   ]
  },
  {
   "cell_type": "code",
   "execution_count": 13,
   "id": "engaged-router",
   "metadata": {},
   "outputs": [],
   "source": [
    "md[\"age_group\"] = np.where(md.age < 18, \"Under 18\",\n",
    "                           np.where(md.age < 65, \"18 to 64\", \"Over 64\"))"
   ]
  },
  {
   "cell_type": "code",
   "execution_count": 14,
   "id": "excited-latitude",
   "metadata": {},
   "outputs": [
    {
     "output_type": "execute_result",
     "data": {
      "text/plain": [
       "age_group\n",
       "18 to 64    0.002404\n",
       "Over 64     0.003313\n",
       "Under 18    0.004286\n",
       "dtype: float64"
      ]
     },
     "metadata": {},
     "execution_count": 14
    }
   ],
   "source": [
    "md.groupby(\"age_group\").in_poverty_bhc.mean() / 52"
   ]
  },
  {
   "cell_type": "code",
   "execution_count": 15,
   "id": "invalid-scout",
   "metadata": {},
   "outputs": [
    {
     "output_type": "execute_result",
     "data": {
      "text/plain": [
       "0.004286157970245068"
      ]
     },
     "metadata": {},
     "execution_count": 15
    }
   ],
   "source": [
    "u18 = pd.DataFrame(md[md.age < 18])\n",
    "mdf.weighted_mean(u18, \"in_poverty_bhc\", \"household_weight\") / 52"
   ]
  },
  {
   "cell_type": "code",
   "execution_count": 16,
   "id": "promotional-principle",
   "metadata": {},
   "outputs": [
    {
     "output_type": "execute_result",
     "data": {
      "text/plain": [
       "0.0006448806960831562"
      ]
     },
     "metadata": {},
     "execution_count": 16
    }
   ],
   "source": [
    "md[md.age < 18].in_deep_poverty_bhc.mean() / 52"
   ]
  },
  {
   "cell_type": "code",
   "execution_count": 17,
   "id": "floppy-hindu",
   "metadata": {},
   "outputs": [
    {
     "output_type": "execute_result",
     "data": {
      "text/plain": [
       "0.8459994726517712"
      ]
     },
     "metadata": {},
     "execution_count": 17
    }
   ],
   "source": [
    "(md.pov == md.in_poverty_bhc / 52).mean()"
   ]
  }
 ],
 "metadata": {
  "kernelspec": {
   "name": "python377jvsc74a57bd04a68920d8e8856d089b03c157a7384bba62e0986489c1fa381bbe538cda0922c",
   "display_name": "Python 3.7.7 64-bit ('base': conda)"
  },
  "language_info": {
   "codemirror_mode": {
    "name": "ipython",
    "version": 3
   },
   "file_extension": ".py",
   "mimetype": "text/x-python",
   "name": "python",
   "nbconvert_exporter": "python",
   "pygments_lexer": "ipython3",
   "version": "3.7.7"
  }
 },
 "nbformat": 4,
 "nbformat_minor": 5
}